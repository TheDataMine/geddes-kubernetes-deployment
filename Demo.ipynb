{
 "cells": [
  {
   "cell_type": "markdown",
   "metadata": {},
   "source": [
    "# Python Deployment on Geddes Kubernetes\n",
    "## Justin A. Gould (gould29@purdue.edu)\n",
    "## July 2021"
   ]
  },
  {
   "cell_type": "markdown",
   "metadata": {},
   "source": [
    "# Required Packages"
   ]
  },
  {
   "cell_type": "code",
   "execution_count": 2,
   "metadata": {},
   "outputs": [],
   "source": [
    "import json\n",
    "import requests"
   ]
  },
  {
   "cell_type": "markdown",
   "metadata": {},
   "source": [
    "# Request"
   ]
  },
  {
   "cell_type": "code",
   "execution_count": 6,
   "metadata": {},
   "outputs": [
    {
     "name": "stdout",
     "output_type": "stream",
     "text": [
      "Response JSON:  \n",
      " {'output': 14}\n"
     ]
    }
   ],
   "source": [
    "#Build Request\n",
    "payload = {\"num\": 12} #text_2, text_3\n",
    "# url = \"http://127.0.0.1:5000/add_two\"\n",
    "url = \"http://128.211.160.160:5000/add_two\"\n",
    "r = requests.post(url, data=json.dumps(payload), headers={\"content-type\":\"application/json; charset=utf-8\"})\n",
    "resp = json.loads(r.content.decode(\"utf-8\"))\n",
    "\n",
    "print(\"Response JSON: \", \"\\n\", resp)"
   ]
  },
  {
   "cell_type": "code",
   "execution_count": null,
   "metadata": {},
   "outputs": [],
   "source": []
  }
 ],
 "metadata": {
  "interpreter": {
   "hash": "56e975195bb840914aee743ffa472b560af0d8621bdf1ef73b6a46495bb69e09"
  },
  "kernelspec": {
   "display_name": "Python 3.8.8 64-bit ('base': conda)",
   "name": "python3"
  },
  "language_info": {
   "codemirror_mode": {
    "name": "ipython",
    "version": 3
   },
   "file_extension": ".py",
   "mimetype": "text/x-python",
   "name": "python",
   "nbconvert_exporter": "python",
   "pygments_lexer": "ipython3",
   "version": "3.7.9"
  }
 },
 "nbformat": 4,
 "nbformat_minor": 5
}